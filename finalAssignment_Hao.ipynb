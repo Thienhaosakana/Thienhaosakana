{
 "cells": [
  {
   "cell_type": "markdown",
   "id": "c6eb1bf1-b01d-4d90-9747-0e8b687b7284",
   "metadata": {},
   "source": [
    "# Final Project Notebook"
   ]
  },
  {
   "cell_type": "markdown",
   "id": "efebc612-a8e9-42f2-8d05-4ed9e4b288a7",
   "metadata": {},
   "source": [
    "This notebook demonstrates various aspects of data science, including tools, libraries, and examples."
   ]
  },
  {
   "cell_type": "markdown",
   "id": "2f04a247-b2c8-4efb-8350-170625b656e1",
   "metadata": {},
   "source": [
    "## Data Science Languages\n",
    "- Python\n",
    "- R\n",
    "- SQL\n",
    "- Julia\n",
    "- Scala"
   ]
  },
  {
   "cell_type": "markdown",
   "id": "c1612499-ba3b-49ca-bc0f-1e60071dcd51",
   "metadata": {},
   "source": [
    "## Data Science Libraries\n",
    "- Pandas\n",
    "- NumPy\n",
    "- Matplotlib\n",
    "- Scikit-learn\n",
    "- TensorFlow\n",
    "- ggplot2"
   ]
  },
  {
   "cell_type": "markdown",
   "id": "43c7dd04-8ab2-4a48-bf90-dc54b157b0ff",
   "metadata": {},
   "source": [
    "## Data Science Tools\n",
    "| Tool           | Purpose                  |\n",
    "|----------------|--------------------------|\n",
    "| Jupyter Notebook | Interactive computing    |\n",
    "| RStudio         | Data analysis and modeling |\n",
    "| Apache Spark    | Big data processing       |"
   ]
  },
  {
   "cell_type": "markdown",
   "id": "9c7f49a5-b6c4-4bcc-8782-3b5800bc3188",
   "metadata": {},
   "source": [
    "## Arithmetic Expression Examples\n",
    "Below are examples of basic arithmetic operations."
   ]
  },
  {
   "cell_type": "code",
   "execution_count": 2,
   "id": "f79e039c-c3d2-480b-b217-422e94454175",
   "metadata": {},
   "outputs": [
    {
     "data": {
      "text/plain": [
       "17"
      ]
     },
     "execution_count": 2,
     "metadata": {},
     "output_type": "execute_result"
    }
   ],
   "source": [
    "# Multiply and add numbers\n",
    "result = (3 * 4) + 5\n",
    "result\n"
   ]
  },
  {
   "cell_type": "code",
   "execution_count": 4,
   "id": "35db91c8-baa7-4c92-84fc-f3905d1550dd",
   "metadata": {},
   "outputs": [
    {
     "data": {
      "text/plain": [
       "3.3333333333333335"
      ]
     },
     "execution_count": 4,
     "metadata": {},
     "output_type": "execute_result"
    }
   ],
   "source": [
    "# Convert minutes to hours\n",
    "minutes = 200\n",
    "hours = minutes / 60\n",
    "hours\n"
   ]
  },
  {
   "cell_type": "markdown",
   "id": "d98fc241-be55-4dd4-97ec-d25d2e812793",
   "metadata": {},
   "source": [
    "## Objectives\n",
    "- Learn about data science tools and languages.\n",
    "- Explore libraries for machine learning and data visualization.\n",
    "- Perform arithmetic operations in Python."
   ]
  },
  {
   "cell_type": "markdown",
   "id": "6fa64fef-4114-442a-b262-c17feb7a31b8",
   "metadata": {},
   "source": [
    "## Author\n",
    "Hào "
   ]
  }
 ],
 "metadata": {
  "kernelspec": {
   "display_name": "Python 3 (ipykernel)",
   "language": "python",
   "name": "python3"
  },
  "language_info": {
   "codemirror_mode": {
    "name": "ipython",
    "version": 3
   },
   "file_extension": ".py",
   "mimetype": "text/x-python",
   "name": "python",
   "nbconvert_exporter": "python",
   "pygments_lexer": "ipython3",
   "version": "3.12.4"
  }
 },
 "nbformat": 4,
 "nbformat_minor": 5
}
