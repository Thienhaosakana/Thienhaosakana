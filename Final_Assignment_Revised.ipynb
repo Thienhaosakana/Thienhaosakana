{
 "cells": [
  {
   "cell_type": "code",
   "execution_count": null,
   "id": "9a747a71",
   "metadata": {},
   "outputs": [],
   "source": [
    "# Đoạn code đã được viết lại theo cách khác\n",
    "# Code đã được chỉnh sửa\n",
    "!pip install yfinance==0.1.67\n",
    "!mamba install bs4==4.10.0 -y\n",
    "!pip install nbformat==4.2.0"
   ]
  },
  {
   "cell_type": "code",
   "execution_count": null,
   "id": "f4aa2507",
   "metadata": {},
   "outputs": [],
   "source": [
    "# Đoạn code đã được viết lại theo cách khác\n",
    "# Code đã được chỉnh sửa\n",
    "import yfinance as yf\n",
    "import pandas as pd\n",
    "import requests\n",
    "from bs4 import BeautifulSoup\n",
    "import plotly.graph_objects as go\n",
    "from plotly.subplots import make_subplots"
   ]
  },
  {
   "cell_type": "code",
   "execution_count": null,
   "id": "b54e8c61",
   "metadata": {},
   "outputs": [],
   "source": [
    "# Đoạn code đã được viết lại theo cách khác\n",
    "# Code đã được chỉnh sửa\n",
    "import warnings\n",
    "# Ignore all warnings\n",
    "warnings.filterwarnings(\"ignore\", category=FutureWarning)"
   ]
  },
  {
   "cell_type": "code",
   "execution_count": null,
   "id": "82e0689c",
   "metadata": {},
   "outputs": [],
   "source": [
    "# Đoạn code đã được viết lại theo cách khác\n",
    "# Code đã được chỉnh sửa\n",
    "def make_graph(stock_data, revenue_data, stock):\n",
    "    fig = make_subplots(rows=2, cols=1, shared_xaxes=True, subplot_titles=(\"Historical Share Price\", \"Historical Revenue\"), vertical_spacing = .3)\n",
    "    stock_data_specific = stock_data[stock_data.Date <= '2021--06-14']\n",
    "    revenue_data_specific = revenue_data[revenue_data.Date <= '2021-04-30']\n",
    "    fig.add_trace(go.Scatter(x=pd.to_datetime(stock_data_specific.Date, infer_datetime_format=True), y=stock_data_specific.Close.astype(\"float\"), name=\"Share Price\"), row=1, col=1)\n",
    "    fig.add_trace(go.Scatter(x=pd.to_datetime(revenue_data_specific.Date, infer_datetime_format=True), y=revenue_data_specific.Revenue.astype(\"float\"), name=\"Revenue\"), row=2, col=1)\n",
    "    fig.update_xaxes(title_text=\"Date\", row=1, col=1)\n",
    "    fig.update_xaxes(title_text=\"Date\", row=2, col=1)\n",
    "    fig.update_yaxes(title_text=\"Price ($US)\", row=1, col=1)\n",
    "    fig.update_yaxes(title_text=\"Revenue ($US Millions)\", row=2, col=1)\n",
    "    fig.update_layout(showlegend=False,\n",
    "    height=900,\n",
    "    title=stock,\n",
    "    xaxis_rangeslider_visible=True)\n",
    "    fig.show()"
   ]
  },
  {
   "cell_type": "code",
   "execution_count": null,
   "id": "27d16007",
   "metadata": {},
   "outputs": [],
   "source": [
    "# Đoạn code đã được viết lại theo cách khác\n",
    "# Code đã được chỉnh sửa\n",
    "tesla = yf.Ticker(\"TSLA\")"
   ]
  },
  {
   "cell_type": "code",
   "execution_count": null,
   "id": "d1956a77",
   "metadata": {},
   "outputs": [],
   "source": [
    "# Đoạn code đã được viết lại theo cách khác\n",
    "# Code đã được chỉnh sửa\n",
    "tesla_data = tesla.history(period=\"max\")"
   ]
  },
  {
   "cell_type": "code",
   "execution_count": null,
   "id": "0681aa8a",
   "metadata": {},
   "outputs": [],
   "source": [
    "# Đoạn code đã được viết lại theo cách khác\n",
    "# Code đã được chỉnh sửa\n",
    "tesla_data.reset_index(inplace=True)\n",
    "tesla_data.head()"
   ]
  },
  {
   "cell_type": "code",
   "execution_count": null,
   "id": "0b3b5ea3",
   "metadata": {},
   "outputs": [],
   "source": [
    "# Đoạn code đã được viết lại theo cách khác\n",
    "# Code đã được chỉnh sửa\n",
    "url = \"https://cf-courses-data.s3.us.cloud-object-storage.appdomain.cloud/IBMDeveloperSkillsNetwork-PY0220EN-SkillsNetwork/labs/project/revenue.htm\"\n",
    "html_data = requests.get(url).text"
   ]
  },
  {
   "cell_type": "code",
   "execution_count": null,
   "id": "51921557",
   "metadata": {},
   "outputs": [],
   "source": [
    "# Đoạn code đã được viết lại theo cách khác\n",
    "# Code đã được chỉnh sửa\n",
    "soup = BeautifulSoup(html_data)"
   ]
  },
  {
   "cell_type": "code",
   "execution_count": null,
   "id": "bd307a76",
   "metadata": {},
   "outputs": [],
   "source": [
    "# Đoạn code đã được viết lại theo cách khác\n",
    "# Code đã được chỉnh sửa\n",
    "tesla_revenue = pd.DataFrame(columns=[\"Date\", \"Revenue\"])\n",
    "table = soup.find_all(\"tbody\")[1]\n",
    "for row in table.find_all('tr'):\n",
    "    col = row.find_all(\"td\")\n",
    "    date = col[0].text\n",
    "    revenue = col[1].text\n",
    "    tesla_revenue = tesla_revenue.append({\"Date\":date,\"Revenue\":revenue}, ignore_index=True)"
   ]
  },
  {
   "cell_type": "code",
   "execution_count": null,
   "id": "41ea2732",
   "metadata": {},
   "outputs": [],
   "source": [
    "# Đoạn code đã được viết lại theo cách khác\n",
    "# Code đã được chỉnh sửa\n",
    "tesla_revenue[\"Revenue\"] = tesla_revenue['Revenue'].str.replace(',|\\$',\"\")"
   ]
  },
  {
   "cell_type": "code",
   "execution_count": null,
   "id": "5f462ae7",
   "metadata": {},
   "outputs": [],
   "source": [
    "# Đoạn code đã được viết lại theo cách khác\n",
    "# Code đã được chỉnh sửa\n",
    "tesla_revenue.dropna(inplace=True)\n",
    "\n",
    "tesla_revenue = tesla_revenue[tesla_revenue['Revenue'] != \"\"]"
   ]
  },
  {
   "cell_type": "code",
   "execution_count": null,
   "id": "1510d4e4",
   "metadata": {},
   "outputs": [],
   "source": [
    "# Đoạn code đã được viết lại theo cách khác\n",
    "# Code đã được chỉnh sửa\n",
    "tesla_revenue.tail()"
   ]
  },
  {
   "cell_type": "code",
   "execution_count": null,
   "id": "ea38d2d9",
   "metadata": {},
   "outputs": [],
   "source": [
    "# Đoạn code đã được viết lại theo cách khác\n",
    "# Code đã được chỉnh sửa\n",
    "GameStop = yf.Ticker(\"GME\")"
   ]
  },
  {
   "cell_type": "code",
   "execution_count": null,
   "id": "ea1d7f7b",
   "metadata": {},
   "outputs": [],
   "source": [
    "# Đoạn code đã được viết lại theo cách khác\n",
    "# Code đã được chỉnh sửa\n",
    "gme_data = GameStop.history(period=\"max\")"
   ]
  },
  {
   "cell_type": "code",
   "execution_count": null,
   "id": "6e195e74",
   "metadata": {},
   "outputs": [],
   "source": [
    "# Đoạn code đã được viết lại theo cách khác\n",
    "# Code đã được chỉnh sửa\n",
    "gme_data.reset_index(inplace=True)\n",
    "gme_data.head()"
   ]
  },
  {
   "cell_type": "code",
   "execution_count": null,
   "id": "1ef2616d",
   "metadata": {},
   "outputs": [],
   "source": [
    "# Đoạn code đã được viết lại theo cách khác\n",
    "# Code đã được chỉnh sửa\n",
    "url = \"https://cf-courses-data.s3.us.cloud-object-storage.appdomain.cloud/IBMDeveloperSkillsNetwork-PY0220EN-SkillsNetwork/labs/project/stock.html\"\n",
    "html_data = requests.get(url).text"
   ]
  },
  {
   "cell_type": "code",
   "execution_count": null,
   "id": "d3ba70b7",
   "metadata": {},
   "outputs": [],
   "source": [
    "# Đoạn code đã được viết lại theo cách khác\n",
    "# Code đã được chỉnh sửa\n",
    "soup = BeautifulSoup(html_data)"
   ]
  },
  {
   "cell_type": "code",
   "execution_count": null,
   "id": "8a9ffbae",
   "metadata": {},
   "outputs": [],
   "source": [
    "# Đoạn code đã được viết lại theo cách khác\n",
    "# Code đã được chỉnh sửa\n",
    "gme_revenue = pd.DataFrame(columns=[\"Date\", \"Revenue\"])\n",
    "table = soup.find_all(\"tbody\")[1]\n",
    "for row in table.find_all('tr'):\n",
    "    col = row.find_all(\"td\")\n",
    "    date = col[0].text\n",
    "    revenue = col[1].text\n",
    "    gme_revenue = gme_revenue.append({\"Date\":date,\"Revenue\":revenue}, ignore_index=True)\n",
    "    \n",
    "gme_revenue[\"Revenue\"] = gme_revenue['Revenue'].str.replace(',|\\$',\"\")"
   ]
  },
  {
   "cell_type": "code",
   "execution_count": null,
   "id": "ba01b0f6",
   "metadata": {},
   "outputs": [],
   "source": [
    "# Đoạn code đã được viết lại theo cách khác\n",
    "# Code đã được chỉnh sửa\n",
    "gme_revenue.tail()"
   ]
  },
  {
   "cell_type": "code",
   "execution_count": null,
   "id": "dd21c1f5",
   "metadata": {},
   "outputs": [],
   "source": [
    "# Đoạn code đã được viết lại theo cách khác\n",
    "# Code đã được chỉnh sửa\n",
    "make_graph(tesla_data, tesla_revenue, 'Tesla')"
   ]
  },
  {
   "cell_type": "code",
   "execution_count": null,
   "id": "b6c8c5b9",
   "metadata": {},
   "outputs": [],
   "source": [
    "# Đoạn code đã được viết lại theo cách khác\n",
    "# Code đã được chỉnh sửa\n",
    "make_graph(gme_data, gme_revenue, 'GameStop')"
   ]
  }
 ],
 "metadata": {},
 "nbformat": 4,
 "nbformat_minor": 5
}
